{
 "cells": [
  {
   "cell_type": "code",
   "execution_count": 1,
   "metadata": {},
   "outputs": [],
   "source": [
    "import numpy as np\n",
    "import pandas as pd\n",
    "import matplotlib.pyplot as plt\n",
    "import seaborn as sns\n",
    "from xgboost import XGBClassifier\n",
    "%matplotlib inline"
   ]
  },
  {
   "cell_type": "code",
   "execution_count": 2,
   "metadata": {},
   "outputs": [],
   "source": [
    "train=pd.read_csv(\"../train.csv\")"
   ]
  },
  {
   "cell_type": "code",
   "execution_count": 3,
   "metadata": {},
   "outputs": [
    {
     "data": {
      "text/html": [
       "<div>\n",
       "<style scoped>\n",
       "    .dataframe tbody tr th:only-of-type {\n",
       "        vertical-align: middle;\n",
       "    }\n",
       "\n",
       "    .dataframe tbody tr th {\n",
       "        vertical-align: top;\n",
       "    }\n",
       "\n",
       "    .dataframe thead th {\n",
       "        text-align: right;\n",
       "    }\n",
       "</style>\n",
       "<table border=\"1\" class=\"dataframe\">\n",
       "  <thead>\n",
       "    <tr style=\"text-align: right;\">\n",
       "      <th></th>\n",
       "      <th>ID</th>\n",
       "      <th>Warehouse_block</th>\n",
       "      <th>Mode_of_Shipment</th>\n",
       "      <th>Customer_care_calls</th>\n",
       "      <th>Customer_rating</th>\n",
       "      <th>Cost_of_the_Product</th>\n",
       "      <th>Prior_purchases</th>\n",
       "      <th>Product_importance</th>\n",
       "      <th>Gender</th>\n",
       "      <th>Discount_offered</th>\n",
       "      <th>Weight_in_gms</th>\n",
       "      <th>Reached.on.Time_Y.N</th>\n",
       "    </tr>\n",
       "  </thead>\n",
       "  <tbody>\n",
       "    <tr>\n",
       "      <th>0</th>\n",
       "      <td>1</td>\n",
       "      <td>D</td>\n",
       "      <td>Flight</td>\n",
       "      <td>4</td>\n",
       "      <td>2</td>\n",
       "      <td>177</td>\n",
       "      <td>3</td>\n",
       "      <td>low</td>\n",
       "      <td>F</td>\n",
       "      <td>44</td>\n",
       "      <td>1233</td>\n",
       "      <td>1</td>\n",
       "    </tr>\n",
       "    <tr>\n",
       "      <th>1</th>\n",
       "      <td>2</td>\n",
       "      <td>F</td>\n",
       "      <td>Flight</td>\n",
       "      <td>4</td>\n",
       "      <td>5</td>\n",
       "      <td>216</td>\n",
       "      <td>2</td>\n",
       "      <td>low</td>\n",
       "      <td>M</td>\n",
       "      <td>59</td>\n",
       "      <td>3088</td>\n",
       "      <td>1</td>\n",
       "    </tr>\n",
       "    <tr>\n",
       "      <th>2</th>\n",
       "      <td>3</td>\n",
       "      <td>A</td>\n",
       "      <td>Flight</td>\n",
       "      <td>2</td>\n",
       "      <td>2</td>\n",
       "      <td>183</td>\n",
       "      <td>4</td>\n",
       "      <td>low</td>\n",
       "      <td>M</td>\n",
       "      <td>48</td>\n",
       "      <td>3374</td>\n",
       "      <td>1</td>\n",
       "    </tr>\n",
       "    <tr>\n",
       "      <th>3</th>\n",
       "      <td>4</td>\n",
       "      <td>B</td>\n",
       "      <td>Flight</td>\n",
       "      <td>3</td>\n",
       "      <td>3</td>\n",
       "      <td>176</td>\n",
       "      <td>4</td>\n",
       "      <td>medium</td>\n",
       "      <td>M</td>\n",
       "      <td>10</td>\n",
       "      <td>1177</td>\n",
       "      <td>1</td>\n",
       "    </tr>\n",
       "    <tr>\n",
       "      <th>4</th>\n",
       "      <td>5</td>\n",
       "      <td>C</td>\n",
       "      <td>Flight</td>\n",
       "      <td>2</td>\n",
       "      <td>2</td>\n",
       "      <td>184</td>\n",
       "      <td>3</td>\n",
       "      <td>medium</td>\n",
       "      <td>F</td>\n",
       "      <td>46</td>\n",
       "      <td>2484</td>\n",
       "      <td>1</td>\n",
       "    </tr>\n",
       "  </tbody>\n",
       "</table>\n",
       "</div>"
      ],
      "text/plain": [
       "   ID Warehouse_block Mode_of_Shipment  Customer_care_calls  Customer_rating  \\\n",
       "0   1               D           Flight                    4                2   \n",
       "1   2               F           Flight                    4                5   \n",
       "2   3               A           Flight                    2                2   \n",
       "3   4               B           Flight                    3                3   \n",
       "4   5               C           Flight                    2                2   \n",
       "\n",
       "   Cost_of_the_Product  Prior_purchases Product_importance Gender  \\\n",
       "0                  177                3                low      F   \n",
       "1                  216                2                low      M   \n",
       "2                  183                4                low      M   \n",
       "3                  176                4             medium      M   \n",
       "4                  184                3             medium      F   \n",
       "\n",
       "   Discount_offered  Weight_in_gms  Reached.on.Time_Y.N  \n",
       "0                44           1233                    1  \n",
       "1                59           3088                    1  \n",
       "2                48           3374                    1  \n",
       "3                10           1177                    1  \n",
       "4                46           2484                    1  "
      ]
     },
     "execution_count": 3,
     "metadata": {},
     "output_type": "execute_result"
    }
   ],
   "source": [
    "train.head()"
   ]
  },
  {
   "cell_type": "code",
   "execution_count": 4,
   "metadata": {},
   "outputs": [],
   "source": [
    "train.drop(train.columns[[0]], axis=1, inplace=True)"
   ]
  },
  {
   "cell_type": "code",
   "execution_count": 5,
   "metadata": {},
   "outputs": [
    {
     "name": "stderr",
     "output_type": "stream",
     "text": [
      "C:\\Users\\aspire 3\\Anaconda3\\lib\\site-packages\\ipykernel_launcher.py:1: SettingWithCopyWarning: \n",
      "A value is trying to be set on a copy of a slice from a DataFrame\n",
      "\n",
      "See the caveats in the documentation: http://pandas.pydata.org/pandas-docs/stable/indexing.html#indexing-view-versus-copy\n",
      "  \"\"\"Entry point for launching an IPython kernel.\n",
      "C:\\Users\\aspire 3\\Anaconda3\\lib\\site-packages\\ipykernel_launcher.py:2: SettingWithCopyWarning: \n",
      "A value is trying to be set on a copy of a slice from a DataFrame\n",
      "\n",
      "See the caveats in the documentation: http://pandas.pydata.org/pandas-docs/stable/indexing.html#indexing-view-versus-copy\n",
      "  \n",
      "C:\\Users\\aspire 3\\Anaconda3\\lib\\site-packages\\ipykernel_launcher.py:3: SettingWithCopyWarning: \n",
      "A value is trying to be set on a copy of a slice from a DataFrame\n",
      "\n",
      "See the caveats in the documentation: http://pandas.pydata.org/pandas-docs/stable/indexing.html#indexing-view-versus-copy\n",
      "  This is separate from the ipykernel package so we can avoid doing imports until\n"
     ]
    }
   ],
   "source": [
    "train.Mode_of_Shipment[train.Mode_of_Shipment == 'Flight'] = 1\n",
    "train.Mode_of_Shipment[train.Mode_of_Shipment == 'Ship'] = 2\n",
    "train.Mode_of_Shipment[train.Mode_of_Shipment == 'Road'] = 3"
   ]
  },
  {
   "cell_type": "code",
   "execution_count": 6,
   "metadata": {},
   "outputs": [
    {
     "name": "stderr",
     "output_type": "stream",
     "text": [
      "C:\\Users\\aspire 3\\Anaconda3\\lib\\site-packages\\ipykernel_launcher.py:1: SettingWithCopyWarning: \n",
      "A value is trying to be set on a copy of a slice from a DataFrame\n",
      "\n",
      "See the caveats in the documentation: http://pandas.pydata.org/pandas-docs/stable/indexing.html#indexing-view-versus-copy\n",
      "  \"\"\"Entry point for launching an IPython kernel.\n",
      "C:\\Users\\aspire 3\\Anaconda3\\lib\\site-packages\\ipykernel_launcher.py:2: SettingWithCopyWarning: \n",
      "A value is trying to be set on a copy of a slice from a DataFrame\n",
      "\n",
      "See the caveats in the documentation: http://pandas.pydata.org/pandas-docs/stable/indexing.html#indexing-view-versus-copy\n",
      "  \n",
      "C:\\Users\\aspire 3\\Anaconda3\\lib\\site-packages\\ipykernel_launcher.py:3: SettingWithCopyWarning: \n",
      "A value is trying to be set on a copy of a slice from a DataFrame\n",
      "\n",
      "See the caveats in the documentation: http://pandas.pydata.org/pandas-docs/stable/indexing.html#indexing-view-versus-copy\n",
      "  This is separate from the ipykernel package so we can avoid doing imports until\n"
     ]
    }
   ],
   "source": [
    "train.Product_importance[train.Product_importance == 'high'] = 1\n",
    "train.Product_importance[train.Product_importance== 'low'] = 2\n",
    "train.Product_importance[train.Product_importance == 'medium'] = 3"
   ]
  },
  {
   "cell_type": "code",
   "execution_count": 7,
   "metadata": {},
   "outputs": [
    {
     "name": "stderr",
     "output_type": "stream",
     "text": [
      "C:\\Users\\aspire 3\\Anaconda3\\lib\\site-packages\\ipykernel_launcher.py:1: SettingWithCopyWarning: \n",
      "A value is trying to be set on a copy of a slice from a DataFrame\n",
      "\n",
      "See the caveats in the documentation: http://pandas.pydata.org/pandas-docs/stable/indexing.html#indexing-view-versus-copy\n",
      "  \"\"\"Entry point for launching an IPython kernel.\n",
      "C:\\Users\\aspire 3\\Anaconda3\\lib\\site-packages\\ipykernel_launcher.py:2: SettingWithCopyWarning: \n",
      "A value is trying to be set on a copy of a slice from a DataFrame\n",
      "\n",
      "See the caveats in the documentation: http://pandas.pydata.org/pandas-docs/stable/indexing.html#indexing-view-versus-copy\n",
      "  \n"
     ]
    }
   ],
   "source": [
    "train.Gender[train.Gender == 'F'] = 1\n",
    "train.Gender[train.Gender== 'M'] = 2"
   ]
  },
  {
   "cell_type": "code",
   "execution_count": 8,
   "metadata": {},
   "outputs": [
    {
     "name": "stdout",
     "output_type": "stream",
     "text": [
      "      Warehouse_block Mode_of_Shipment  Customer_care_calls  Customer_rating  \\\n",
      "0                   4                1                    4                2   \n",
      "1                   5                1                    4                5   \n",
      "2                   1                1                    2                2   \n",
      "3                   2                1                    3                3   \n",
      "4                   3                1                    2                2   \n",
      "5                   5                1                    3                1   \n",
      "6                   4                1                    3                4   \n",
      "7                   5                1                    4                1   \n",
      "8                   1                1                    3                4   \n",
      "9                   2                1                    3                2   \n",
      "10                  3                1                    3                4   \n",
      "11                  5                1                    4                5   \n",
      "12                  4                1                    3                5   \n",
      "13                  5                1                    4                4   \n",
      "14                  1                1                    4                3   \n",
      "15                  2                1                    4                3   \n",
      "16                  3                1                    3                4   \n",
      "17                  5                2                    5                5   \n",
      "18                  4                2                    5                5   \n",
      "19                  5                2                    4                5   \n",
      "20                  1                2                    3                3   \n",
      "21                  2                2                    3                1   \n",
      "22                  3                2                    2                5   \n",
      "23                  5                2                    4                3   \n",
      "24                  4                2                    4                5   \n",
      "25                  5                2                    3                1   \n",
      "26                  1                2                    4                1   \n",
      "27                  2                2                    5                1   \n",
      "28                  3                2                    2                3   \n",
      "29                  5                2                    5                4   \n",
      "...               ...              ...                  ...              ...   \n",
      "10969               5                1                    5                2   \n",
      "10970               1                1                    4                4   \n",
      "10971               2                1                    5                5   \n",
      "10972               3                1                    4                1   \n",
      "10973               5                1                    5                2   \n",
      "10974               4                1                    5                2   \n",
      "10975               5                1                    5                2   \n",
      "10976               1                1                    3                2   \n",
      "10977               2                2                    5                4   \n",
      "10978               3                2                    4                1   \n",
      "10979               5                2                    4                2   \n",
      "10980               4                2                    4                4   \n",
      "10981               5                2                    5                2   \n",
      "10982               1                2                    5                1   \n",
      "10983               2                2                    4                3   \n",
      "10984               3                2                    5                1   \n",
      "10985               5                2                    5                1   \n",
      "10986               4                2                    4                5   \n",
      "10987               5                2                    5                3   \n",
      "10988               1                2                    4                3   \n",
      "10989               2                2                    5                1   \n",
      "10990               3                2                    5                4   \n",
      "10991               5                2                    5                2   \n",
      "10992               4                2                    5                1   \n",
      "10993               5                2                    5                1   \n",
      "10994               1                2                    4                1   \n",
      "10995               2                2                    4                1   \n",
      "10996               3                2                    5                4   \n",
      "10997               5                2                    5                2   \n",
      "10998               4                2                    2                5   \n",
      "\n",
      "       Cost_of_the_Product  Prior_purchases Product_importance Gender  \\\n",
      "0                      177                3                  2      1   \n",
      "1                      216                2                  2      2   \n",
      "2                      183                4                  2      2   \n",
      "3                      176                4                  3      2   \n",
      "4                      184                3                  3      1   \n",
      "5                      162                3                  3      1   \n",
      "6                      250                3                  2      1   \n",
      "7                      233                2                  2      1   \n",
      "8                      150                3                  2      1   \n",
      "9                      164                3                  3      1   \n",
      "10                     189                2                  3      2   \n",
      "11                     232                3                  3      1   \n",
      "12                     198                3                  3      1   \n",
      "13                     275                3                  1      2   \n",
      "14                     152                3                  2      2   \n",
      "15                     227                3                  2      1   \n",
      "16                     143                2                  3      1   \n",
      "17                     227                3                  3      2   \n",
      "18                     239                3                  1      2   \n",
      "19                     145                3                  3      2   \n",
      "20                     161                2                  3      1   \n",
      "21                     232                4                  3      1   \n",
      "22                     156                2                  2      2   \n",
      "23                     211                3                  1      2   \n",
      "24                     251                2                  3      1   \n",
      "25                     225                4                  2      2   \n",
      "26                     172                3                  1      1   \n",
      "27                     162                3                  3      2   \n",
      "28                     234                4                  2      2   \n",
      "29                     183                2                  2      1   \n",
      "...                    ...              ...                ...    ...   \n",
      "10969                  234                5                  3      2   \n",
      "10970                  216                6                  2      2   \n",
      "10971                  221                5                  2      2   \n",
      "10972                  249                5                  2      1   \n",
      "10973                  240                5                  2      1   \n",
      "10974                  219                5                  2      1   \n",
      "10975                  219                5                  2      2   \n",
      "10976                  278                4                  3      2   \n",
      "10977                  232                5                  3      1   \n",
      "10978                  253                5                  2      1   \n",
      "10979                  253                5                  2      1   \n",
      "10980                  261                5                  2      1   \n",
      "10981                  251                6                  2      2   \n",
      "10982                  275                5                  2      2   \n",
      "10983                  229                6                  3      2   \n",
      "10984                  257                5                  3      2   \n",
      "10985                  229                5                  2      1   \n",
      "10986                  255                5                  3      2   \n",
      "10987                  242                5                  2      1   \n",
      "10988                  192                4                  2      1   \n",
      "10989                  218                5                  3      1   \n",
      "10990                  219                6                  2      2   \n",
      "10991                  261                5                  3      2   \n",
      "10992                  236                5                  3      2   \n",
      "10993                  257                6                  2      1   \n",
      "10994                  252                5                  3      1   \n",
      "10995                  232                5                  3      1   \n",
      "10996                  242                5                  2      1   \n",
      "10997                  223                6                  3      2   \n",
      "10998                  155                5                  2      1   \n",
      "\n",
      "       Discount_offered  Weight_in_gms  Reached.on.Time_Y.N  \n",
      "0                    44           1233                    1  \n",
      "1                    59           3088                    1  \n",
      "2                    48           3374                    1  \n",
      "3                    10           1177                    1  \n",
      "4                    46           2484                    1  \n",
      "5                    12           1417                    1  \n",
      "6                     3           2371                    1  \n",
      "7                    48           2804                    1  \n",
      "8                    11           1861                    1  \n",
      "9                    29           1187                    1  \n",
      "10                   12           2888                    1  \n",
      "11                   32           3253                    1  \n",
      "12                    1           3667                    1  \n",
      "13                   29           2602                    1  \n",
      "14                   43           1009                    1  \n",
      "15                   45           2707                    1  \n",
      "16                    6           1194                    1  \n",
      "17                   36           3952                    1  \n",
      "18                   18           2495                    1  \n",
      "19                   45           1059                    1  \n",
      "20                   38           1521                    1  \n",
      "21                   51           2899                    1  \n",
      "22                    2           1750                    1  \n",
      "23                   12           3922                    1  \n",
      "24                   28           3561                    1  \n",
      "25                   29           3496                    1  \n",
      "26                   24           1066                    1  \n",
      "27                   31           1435                    1  \n",
      "28                   44           3134                    1  \n",
      "29                   36           3819                    1  \n",
      "...                 ...            ...                  ...  \n",
      "10969                 7           1524                    0  \n",
      "10970                 5           1272                    0  \n",
      "10971                 8           1718                    0  \n",
      "10972                10           1762                    1  \n",
      "10973                 7           1923                    0  \n",
      "10974                 9           1505                    0  \n",
      "10975                10           1276                    0  \n",
      "10976                 9           1631                    0  \n",
      "10977                 4           1561                    0  \n",
      "10978                 2           1362                    0  \n",
      "10979                 3           1086                    1  \n",
      "10980                 4           1649                    1  \n",
      "10981                10           1196                    0  \n",
      "10982                 7           1623                    1  \n",
      "10983                 1           1235                    1  \n",
      "10984                 1           1102                    1  \n",
      "10985                10           1040                    1  \n",
      "10986                 5           1458                    1  \n",
      "10987                10           1846                    1  \n",
      "10988                 2           1830                    0  \n",
      "10989                 9           1603                    0  \n",
      "10990                 3           1098                    0  \n",
      "10991                 9           1227                    1  \n",
      "10992                 3           1906                    0  \n",
      "10993                 1           1150                    0  \n",
      "10994                 1           1538                    1  \n",
      "10995                 6           1247                    0  \n",
      "10996                 4           1155                    0  \n",
      "10997                 2           1210                    0  \n",
      "10998                 6           1639                    0  \n",
      "\n",
      "[10999 rows x 11 columns]\n"
     ]
    },
    {
     "name": "stderr",
     "output_type": "stream",
     "text": [
      "C:\\Users\\aspire 3\\Anaconda3\\lib\\site-packages\\ipykernel_launcher.py:1: SettingWithCopyWarning: \n",
      "A value is trying to be set on a copy of a slice from a DataFrame\n",
      "\n",
      "See the caveats in the documentation: http://pandas.pydata.org/pandas-docs/stable/indexing.html#indexing-view-versus-copy\n",
      "  \"\"\"Entry point for launching an IPython kernel.\n",
      "C:\\Users\\aspire 3\\Anaconda3\\lib\\site-packages\\ipykernel_launcher.py:2: SettingWithCopyWarning: \n",
      "A value is trying to be set on a copy of a slice from a DataFrame\n",
      "\n",
      "See the caveats in the documentation: http://pandas.pydata.org/pandas-docs/stable/indexing.html#indexing-view-versus-copy\n",
      "  \n",
      "C:\\Users\\aspire 3\\Anaconda3\\lib\\site-packages\\ipykernel_launcher.py:3: SettingWithCopyWarning: \n",
      "A value is trying to be set on a copy of a slice from a DataFrame\n",
      "\n",
      "See the caveats in the documentation: http://pandas.pydata.org/pandas-docs/stable/indexing.html#indexing-view-versus-copy\n",
      "  This is separate from the ipykernel package so we can avoid doing imports until\n",
      "C:\\Users\\aspire 3\\Anaconda3\\lib\\site-packages\\ipykernel_launcher.py:4: SettingWithCopyWarning: \n",
      "A value is trying to be set on a copy of a slice from a DataFrame\n",
      "\n",
      "See the caveats in the documentation: http://pandas.pydata.org/pandas-docs/stable/indexing.html#indexing-view-versus-copy\n",
      "  after removing the cwd from sys.path.\n",
      "C:\\Users\\aspire 3\\Anaconda3\\lib\\site-packages\\ipykernel_launcher.py:5: SettingWithCopyWarning: \n",
      "A value is trying to be set on a copy of a slice from a DataFrame\n",
      "\n",
      "See the caveats in the documentation: http://pandas.pydata.org/pandas-docs/stable/indexing.html#indexing-view-versus-copy\n",
      "  \"\"\"\n"
     ]
    }
   ],
   "source": [
    "train.Warehouse_block[train.Warehouse_block == 'A'] = 1\n",
    "train.Warehouse_block[train.Warehouse_block== 'B'] = 2\n",
    "train.Warehouse_block[train.Warehouse_block == 'C'] = 3\n",
    "train.Warehouse_block[train.Warehouse_block== 'D'] = 4\n",
    "train.Warehouse_block[train.Warehouse_block== 'F'] = 5\n",
    "print(train)"
   ]
  },
  {
   "cell_type": "code",
   "execution_count": 9,
   "metadata": {},
   "outputs": [],
   "source": [
    "train[\"Mode_of_Shipment\"]= train[\"Mode_of_Shipment\"].astype(int) \n",
    "train[\"Product_importance\"]= train[\"Product_importance\"].astype(int) \n",
    "train[\"Gender\"]= train[\"Gender\"].astype(int) \n",
    "train[\"Warehouse_block\"]= train[\"Warehouse_block\"].astype(int) "
   ]
  },
  {
   "cell_type": "code",
   "execution_count": 10,
   "metadata": {},
   "outputs": [],
   "source": [
    "X=train.drop('Reached.on.Time_Y.N',axis=1)\n",
    "Y=train['Reached.on.Time_Y.N']"
   ]
  },
  {
   "cell_type": "code",
   "execution_count": 11,
   "metadata": {},
   "outputs": [],
   "source": [
    "from sklearn.model_selection import train_test_split\n",
    "X_train,X_test,y_train,y_test=train_test_split(X,Y,test_size=0.30)"
   ]
  },
  {
   "cell_type": "code",
   "execution_count": 12,
   "metadata": {},
   "outputs": [
    {
     "data": {
      "text/plain": [
       "XGBClassifier(base_score=0.5, booster='gbtree', colsample_bylevel=1,\n",
       "       colsample_bynode=1, colsample_bytree=1, gamma=0, learning_rate=0.1,\n",
       "       max_delta_step=0, max_depth=3, min_child_weight=1, missing=None,\n",
       "       n_estimators=100, n_jobs=1, nthread=None,\n",
       "       objective='binary:logistic', random_state=0, reg_alpha=0,\n",
       "       reg_lambda=1, scale_pos_weight=1, seed=None, silent=None,\n",
       "       subsample=1, verbosity=1)"
      ]
     },
     "execution_count": 12,
     "metadata": {},
     "output_type": "execute_result"
    }
   ],
   "source": [
    "xgmodel=XGBClassifier()\n",
    "xgmodel.fit(X_train,y_train)"
   ]
  },
  {
   "cell_type": "code",
   "execution_count": 13,
   "metadata": {},
   "outputs": [
    {
     "name": "stderr",
     "output_type": "stream",
     "text": [
      "C:\\Users\\aspire 3\\Anaconda3\\lib\\site-packages\\sklearn\\preprocessing\\label.py:151: DeprecationWarning: The truth value of an empty array is ambiguous. Returning False, but in future this will result in an error. Use `array.size > 0` to check that an array is not empty.\n",
      "  if diff:\n"
     ]
    }
   ],
   "source": [
    "y_pred=xgmodel.predict(X_test)"
   ]
  },
  {
   "cell_type": "code",
   "execution_count": 14,
   "metadata": {},
   "outputs": [
    {
     "name": "stdout",
     "output_type": "stream",
     "text": [
      "0.6778787878787879\n"
     ]
    }
   ],
   "source": [
    "from sklearn.metrics import accuracy_score\n",
    "print(accuracy_score(y_test,y_pred.round(),normalize=True))"
   ]
  },
  {
   "cell_type": "code",
   "execution_count": 15,
   "metadata": {},
   "outputs": [
    {
     "name": "stdout",
     "output_type": "stream",
     "text": [
      "[False  True  True False  True  True False False  True  True]\n",
      "[5 1 1 2 1 1 3 4 1 1]\n"
     ]
    }
   ],
   "source": [
    "from sklearn.feature_selection import RFE\n",
    "rfe = RFE(xgmodel, 6)\n",
    "#Transforming data using RFE\n",
    "X_rfe = rfe.fit_transform(X,Y)  \n",
    "#Fitting the data to model\n",
    "xgmodel.fit(X_rfe,Y)\n",
    "print(rfe.support_)\n",
    "print(rfe.ranking_)"
   ]
  },
  {
   "cell_type": "code",
   "execution_count": 16,
   "metadata": {},
   "outputs": [
    {
     "data": {
      "text/html": [
       "<div>\n",
       "<style scoped>\n",
       "    .dataframe tbody tr th:only-of-type {\n",
       "        vertical-align: middle;\n",
       "    }\n",
       "\n",
       "    .dataframe tbody tr th {\n",
       "        vertical-align: top;\n",
       "    }\n",
       "\n",
       "    .dataframe thead th {\n",
       "        text-align: right;\n",
       "    }\n",
       "</style>\n",
       "<table border=\"1\" class=\"dataframe\">\n",
       "  <thead>\n",
       "    <tr style=\"text-align: right;\">\n",
       "      <th></th>\n",
       "      <th>Warehouse_block</th>\n",
       "      <th>Mode_of_Shipment</th>\n",
       "      <th>Customer_care_calls</th>\n",
       "      <th>Customer_rating</th>\n",
       "      <th>Cost_of_the_Product</th>\n",
       "      <th>Prior_purchases</th>\n",
       "      <th>Product_importance</th>\n",
       "      <th>Gender</th>\n",
       "      <th>Discount_offered</th>\n",
       "      <th>Weight_in_gms</th>\n",
       "      <th>Reached.on.Time_Y.N</th>\n",
       "    </tr>\n",
       "  </thead>\n",
       "  <tbody>\n",
       "    <tr>\n",
       "      <th>0</th>\n",
       "      <td>4</td>\n",
       "      <td>1</td>\n",
       "      <td>4</td>\n",
       "      <td>2</td>\n",
       "      <td>177</td>\n",
       "      <td>3</td>\n",
       "      <td>2</td>\n",
       "      <td>1</td>\n",
       "      <td>44</td>\n",
       "      <td>1233</td>\n",
       "      <td>1</td>\n",
       "    </tr>\n",
       "    <tr>\n",
       "      <th>1</th>\n",
       "      <td>5</td>\n",
       "      <td>1</td>\n",
       "      <td>4</td>\n",
       "      <td>5</td>\n",
       "      <td>216</td>\n",
       "      <td>2</td>\n",
       "      <td>2</td>\n",
       "      <td>2</td>\n",
       "      <td>59</td>\n",
       "      <td>3088</td>\n",
       "      <td>1</td>\n",
       "    </tr>\n",
       "    <tr>\n",
       "      <th>2</th>\n",
       "      <td>1</td>\n",
       "      <td>1</td>\n",
       "      <td>2</td>\n",
       "      <td>2</td>\n",
       "      <td>183</td>\n",
       "      <td>4</td>\n",
       "      <td>2</td>\n",
       "      <td>2</td>\n",
       "      <td>48</td>\n",
       "      <td>3374</td>\n",
       "      <td>1</td>\n",
       "    </tr>\n",
       "    <tr>\n",
       "      <th>3</th>\n",
       "      <td>2</td>\n",
       "      <td>1</td>\n",
       "      <td>3</td>\n",
       "      <td>3</td>\n",
       "      <td>176</td>\n",
       "      <td>4</td>\n",
       "      <td>3</td>\n",
       "      <td>2</td>\n",
       "      <td>10</td>\n",
       "      <td>1177</td>\n",
       "      <td>1</td>\n",
       "    </tr>\n",
       "    <tr>\n",
       "      <th>4</th>\n",
       "      <td>3</td>\n",
       "      <td>1</td>\n",
       "      <td>2</td>\n",
       "      <td>2</td>\n",
       "      <td>184</td>\n",
       "      <td>3</td>\n",
       "      <td>3</td>\n",
       "      <td>1</td>\n",
       "      <td>46</td>\n",
       "      <td>2484</td>\n",
       "      <td>1</td>\n",
       "    </tr>\n",
       "  </tbody>\n",
       "</table>\n",
       "</div>"
      ],
      "text/plain": [
       "   Warehouse_block  Mode_of_Shipment  Customer_care_calls  Customer_rating  \\\n",
       "0                4                 1                    4                2   \n",
       "1                5                 1                    4                5   \n",
       "2                1                 1                    2                2   \n",
       "3                2                 1                    3                3   \n",
       "4                3                 1                    2                2   \n",
       "\n",
       "   Cost_of_the_Product  Prior_purchases  Product_importance  Gender  \\\n",
       "0                  177                3                   2       1   \n",
       "1                  216                2                   2       2   \n",
       "2                  183                4                   2       2   \n",
       "3                  176                4                   3       2   \n",
       "4                  184                3                   3       1   \n",
       "\n",
       "   Discount_offered  Weight_in_gms  Reached.on.Time_Y.N  \n",
       "0                44           1233                    1  \n",
       "1                59           3088                    1  \n",
       "2                48           3374                    1  \n",
       "3                10           1177                    1  \n",
       "4                46           2484                    1  "
      ]
     },
     "execution_count": 16,
     "metadata": {},
     "output_type": "execute_result"
    }
   ],
   "source": [
    "train.head()"
   ]
  },
  {
   "cell_type": "code",
   "execution_count": 17,
   "metadata": {},
   "outputs": [
    {
     "data": {
      "text/plain": [
       "array([[   4,    2,  177,    3,   44, 1233],\n",
       "       [   4,    5,  216,    2,   59, 3088],\n",
       "       [   2,    2,  183,    4,   48, 3374],\n",
       "       ...,\n",
       "       [   5,    4,  242,    5,    4, 1155],\n",
       "       [   5,    2,  223,    6,    2, 1210],\n",
       "       [   2,    5,  155,    5,    6, 1639]], dtype=int64)"
      ]
     },
     "execution_count": 17,
     "metadata": {},
     "output_type": "execute_result"
    }
   ],
   "source": [
    "from sklearn.feature_selection import SelectKBest\n",
    "from sklearn.feature_selection import chi2\n",
    "from sklearn.preprocessing import MinMaxScaler\n",
    "#X_norm = MinMaxScaler().fit_transform(X)\n",
    "X_new = SelectKBest(chi2, k=6).fit_transform(X, Y)\n",
    "X_new"
   ]
  },
  {
   "cell_type": "code",
   "execution_count": 18,
   "metadata": {},
   "outputs": [],
   "source": [
    "X=X_new\n",
    "Y=train['Reached.on.Time_Y.N']\n"
   ]
  },
  {
   "cell_type": "code",
   "execution_count": 19,
   "metadata": {},
   "outputs": [],
   "source": [
    "from sklearn.model_selection import train_test_split\n",
    "X_train,X_test,y_train,y_test=train_test_split(X,Y,test_size=0.30)"
   ]
  },
  {
   "cell_type": "code",
   "execution_count": 20,
   "metadata": {},
   "outputs": [
    {
     "data": {
      "text/plain": [
       "XGBClassifier(base_score=0.5, booster='gbtree', colsample_bylevel=1,\n",
       "       colsample_bynode=1, colsample_bytree=1, gamma=0, learning_rate=0.1,\n",
       "       max_delta_step=0, max_depth=3, min_child_weight=1, missing=None,\n",
       "       n_estimators=100, n_jobs=1, nthread=None,\n",
       "       objective='binary:logistic', random_state=0, reg_alpha=0,\n",
       "       reg_lambda=1, scale_pos_weight=1, seed=None, silent=None,\n",
       "       subsample=1, verbosity=1)"
      ]
     },
     "execution_count": 20,
     "metadata": {},
     "output_type": "execute_result"
    }
   ],
   "source": [
    "xgmodel2=XGBClassifier()\n",
    "xgmodel2.fit(X_train,y_train)"
   ]
  },
  {
   "cell_type": "code",
   "execution_count": 21,
   "metadata": {},
   "outputs": [
    {
     "name": "stderr",
     "output_type": "stream",
     "text": [
      "C:\\Users\\aspire 3\\Anaconda3\\lib\\site-packages\\sklearn\\preprocessing\\label.py:151: DeprecationWarning: The truth value of an empty array is ambiguous. Returning False, but in future this will result in an error. Use `array.size > 0` to check that an array is not empty.\n",
      "  if diff:\n"
     ]
    }
   ],
   "source": [
    "y_pred=xgmodel2.predict(X_test)"
   ]
  },
  {
   "cell_type": "code",
   "execution_count": 22,
   "metadata": {},
   "outputs": [
    {
     "name": "stdout",
     "output_type": "stream",
     "text": [
      "0.686060606060606\n"
     ]
    }
   ],
   "source": [
    "from sklearn.metrics import accuracy_score\n",
    "print(accuracy_score(y_test,y_pred.round(),normalize=True))"
   ]
  },
  {
   "cell_type": "code",
   "execution_count": null,
   "metadata": {},
   "outputs": [],
   "source": []
  }
 ],
 "metadata": {
  "kernelspec": {
   "display_name": "Python 3",
   "language": "python",
   "name": "python3"
  },
  "language_info": {
   "codemirror_mode": {
    "name": "ipython",
    "version": 3
   },
   "file_extension": ".py",
   "mimetype": "text/x-python",
   "name": "python",
   "nbconvert_exporter": "python",
   "pygments_lexer": "ipython3",
   "version": "3.7.0"
  }
 },
 "nbformat": 4,
 "nbformat_minor": 2
}
